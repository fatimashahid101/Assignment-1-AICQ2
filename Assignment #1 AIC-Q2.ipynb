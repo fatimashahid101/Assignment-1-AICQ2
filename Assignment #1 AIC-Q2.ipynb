{
 "cells": [
  {
   "cell_type": "code",
   "execution_count": 2,
   "metadata": {},
   "outputs": [
    {
     "name": "stdout",
     "output_type": "stream",
     "text": [
      "WELCOME TO NUMPY!\n"
     ]
    }
   ],
   "source": [
    "import numpy as np\n",
    "print(\"WELCOME TO NUMPY!\")"
   ]
  },
  {
   "cell_type": "code",
   "execution_count": 2,
   "metadata": {},
   "outputs": [
    {
     "name": "stdout",
     "output_type": "stream",
     "text": [
      "Hello World\n"
     ]
    }
   ],
   "source": [
    "#1\n",
    "def abc():print(\"Hello World\") #Numpy\n",
    "    \n",
    "abc()"
   ]
  },
  {
   "cell_type": "code",
   "execution_count": 3,
   "metadata": {},
   "outputs": [
    {
     "name": "stdout",
     "output_type": "stream",
     "text": [
      "21\n"
     ]
    }
   ],
   "source": [
    "#2\n",
    "l = [7,8,6]\n",
    "print(np.sum(l))\n"
   ]
  },
  {
   "cell_type": "code",
   "execution_count": 4,
   "metadata": {},
   "outputs": [
    {
     "name": "stdout",
     "output_type": "stream",
     "text": [
      "Wall time: 0 ns\n"
     ]
    },
    {
     "data": {
      "text/plain": [
       "array([   6,    7,    8,    9,   10,   11,   12,   13,   14,   15,   16,\n",
       "         17,   18,   19,   20,   21,   22,   23,   24,   25,   26,   27,\n",
       "         28,   29,   30,   31,   32,   33,   34,   35,   36,   37,   38,\n",
       "         39,   40,   41,   42,   43,   44,   45,   46,   47,   48,   49,\n",
       "         50,   51,   52,   53,   54,   55,   56,   57,   58,   59,   60,\n",
       "         61,   62,   63,   64,   65,   66,   67,   68,   69,   70,   71,\n",
       "         72,   73,   74,   75,   76,   77,   78,   79,   80,   81,   82,\n",
       "         83,   84,   85,   86,   87,   88,   89,   90,   91,   92,   93,\n",
       "         94,   95,   96,   97,   98,   99,  100,  101,  102,  103,  104,\n",
       "        105,  106,  107,  108,  109,  110,  111,  112,  113,  114,  115,\n",
       "        116,  117,  118,  119,  120,  121,  122,  123,  124,  125,  126,\n",
       "        127,  128,  129,  130,  131,  132,  133,  134,  135,  136,  137,\n",
       "        138,  139,  140,  141,  142,  143,  144,  145,  146,  147,  148,\n",
       "        149,  150,  151,  152,  153,  154,  155,  156,  157,  158,  159,\n",
       "        160,  161,  162,  163,  164,  165,  166,  167,  168,  169,  170,\n",
       "        171,  172,  173,  174,  175,  176,  177,  178,  179,  180,  181,\n",
       "        182,  183,  184,  185,  186,  187,  188,  189,  190,  191,  192,\n",
       "        193,  194,  195,  196,  197,  198,  199,  200,  201,  202,  203,\n",
       "        204,  205,  206,  207,  208,  209,  210,  211,  212,  213,  214,\n",
       "        215,  216,  217,  218,  219,  220,  221,  222,  223,  224,  225,\n",
       "        226,  227,  228,  229,  230,  231,  232,  233,  234,  235,  236,\n",
       "        237,  238,  239,  240,  241,  242,  243,  244,  245,  246,  247,\n",
       "        248,  249,  250,  251,  252,  253,  254,  255,  256,  257,  258,\n",
       "        259,  260,  261,  262,  263,  264,  265,  266,  267,  268,  269,\n",
       "        270,  271,  272,  273,  274,  275,  276,  277,  278,  279,  280,\n",
       "        281,  282,  283,  284,  285,  286,  287,  288,  289,  290,  291,\n",
       "        292,  293,  294,  295,  296,  297,  298,  299,  300,  301,  302,\n",
       "        303,  304,  305,  306,  307,  308,  309,  310,  311,  312,  313,\n",
       "        314,  315,  316,  317,  318,  319,  320,  321,  322,  323,  324,\n",
       "        325,  326,  327,  328,  329,  330,  331,  332,  333,  334,  335,\n",
       "        336,  337,  338,  339,  340,  341,  342,  343,  344,  345,  346,\n",
       "        347,  348,  349,  350,  351,  352,  353,  354,  355,  356,  357,\n",
       "        358,  359,  360,  361,  362,  363,  364,  365,  366,  367,  368,\n",
       "        369,  370,  371,  372,  373,  374,  375,  376,  377,  378,  379,\n",
       "        380,  381,  382,  383,  384,  385,  386,  387,  388,  389,  390,\n",
       "        391,  392,  393,  394,  395,  396,  397,  398,  399,  400,  401,\n",
       "        402,  403,  404,  405,  406,  407,  408,  409,  410,  411,  412,\n",
       "        413,  414,  415,  416,  417,  418,  419,  420,  421,  422,  423,\n",
       "        424,  425,  426,  427,  428,  429,  430,  431,  432,  433,  434,\n",
       "        435,  436,  437,  438,  439,  440,  441,  442,  443,  444,  445,\n",
       "        446,  447,  448,  449,  450,  451,  452,  453,  454,  455,  456,\n",
       "        457,  458,  459,  460,  461,  462,  463,  464,  465,  466,  467,\n",
       "        468,  469,  470,  471,  472,  473,  474,  475,  476,  477,  478,\n",
       "        479,  480,  481,  482,  483,  484,  485,  486,  487,  488,  489,\n",
       "        490,  491,  492,  493,  494,  495,  496,  497,  498,  499,  500,\n",
       "        501,  502,  503,  504,  505,  506,  507,  508,  509,  510,  511,\n",
       "        512,  513,  514,  515,  516,  517,  518,  519,  520,  521,  522,\n",
       "        523,  524,  525,  526,  527,  528,  529,  530,  531,  532,  533,\n",
       "        534,  535,  536,  537,  538,  539,  540,  541,  542,  543,  544,\n",
       "        545,  546,  547,  548,  549,  550,  551,  552,  553,  554,  555,\n",
       "        556,  557,  558,  559,  560,  561,  562,  563,  564,  565,  566,\n",
       "        567,  568,  569,  570,  571,  572,  573,  574,  575,  576,  577,\n",
       "        578,  579,  580,  581,  582,  583,  584,  585,  586,  587,  588,\n",
       "        589,  590,  591,  592,  593,  594,  595,  596,  597,  598,  599,\n",
       "        600,  601,  602,  603,  604,  605,  606,  607,  608,  609,  610,\n",
       "        611,  612,  613,  614,  615,  616,  617,  618,  619,  620,  621,\n",
       "        622,  623,  624,  625,  626,  627,  628,  629,  630,  631,  632,\n",
       "        633,  634,  635,  636,  637,  638,  639,  640,  641,  642,  643,\n",
       "        644,  645,  646,  647,  648,  649,  650,  651,  652,  653,  654,\n",
       "        655,  656,  657,  658,  659,  660,  661,  662,  663,  664,  665,\n",
       "        666,  667,  668,  669,  670,  671,  672,  673,  674,  675,  676,\n",
       "        677,  678,  679,  680,  681,  682,  683,  684,  685,  686,  687,\n",
       "        688,  689,  690,  691,  692,  693,  694,  695,  696,  697,  698,\n",
       "        699,  700,  701,  702,  703,  704,  705,  706,  707,  708,  709,\n",
       "        710,  711,  712,  713,  714,  715,  716,  717,  718,  719,  720,\n",
       "        721,  722,  723,  724,  725,  726,  727,  728,  729,  730,  731,\n",
       "        732,  733,  734,  735,  736,  737,  738,  739,  740,  741,  742,\n",
       "        743,  744,  745,  746,  747,  748,  749,  750,  751,  752,  753,\n",
       "        754,  755,  756,  757,  758,  759,  760,  761,  762,  763,  764,\n",
       "        765,  766,  767,  768,  769,  770,  771,  772,  773,  774,  775,\n",
       "        776,  777,  778,  779,  780,  781,  782,  783,  784,  785,  786,\n",
       "        787,  788,  789,  790,  791,  792,  793,  794,  795,  796,  797,\n",
       "        798,  799,  800,  801,  802,  803,  804,  805,  806,  807,  808,\n",
       "        809,  810,  811,  812,  813,  814,  815,  816,  817,  818,  819,\n",
       "        820,  821,  822,  823,  824,  825,  826,  827,  828,  829,  830,\n",
       "        831,  832,  833,  834,  835,  836,  837,  838,  839,  840,  841,\n",
       "        842,  843,  844,  845,  846,  847,  848,  849,  850,  851,  852,\n",
       "        853,  854,  855,  856,  857,  858,  859,  860,  861,  862,  863,\n",
       "        864,  865,  866,  867,  868,  869,  870,  871,  872,  873,  874,\n",
       "        875,  876,  877,  878,  879,  880,  881,  882,  883,  884,  885,\n",
       "        886,  887,  888,  889,  890,  891,  892,  893,  894,  895,  896,\n",
       "        897,  898,  899,  900,  901,  902,  903,  904,  905,  906,  907,\n",
       "        908,  909,  910,  911,  912,  913,  914,  915,  916,  917,  918,\n",
       "        919,  920,  921,  922,  923,  924,  925,  926,  927,  928,  929,\n",
       "        930,  931,  932,  933,  934,  935,  936,  937,  938,  939,  940,\n",
       "        941,  942,  943,  944,  945,  946,  947,  948,  949,  950,  951,\n",
       "        952,  953,  954,  955,  956,  957,  958,  959,  960,  961,  962,\n",
       "        963,  964,  965,  966,  967,  968,  969,  970,  971,  972,  973,\n",
       "        974,  975,  976,  977,  978,  979,  980,  981,  982,  983,  984,\n",
       "        985,  986,  987,  988,  989,  990,  991,  992,  993,  994,  995,\n",
       "        996,  997,  998,  999, 1000, 1001, 1002, 1003, 1004, 1005])"
      ]
     },
     "execution_count": 4,
     "metadata": {},
     "output_type": "execute_result"
    }
   ],
   "source": [
    "#3\n",
    "l1 = np.arange(1000)\n",
    "%time l1 + 6"
   ]
  },
  {
   "cell_type": "code",
   "execution_count": 5,
   "metadata": {},
   "outputs": [
    {
     "name": "stdout",
     "output_type": "stream",
     "text": [
      "Dimension: 1\n"
     ]
    }
   ],
   "source": [
    "#4\n",
    "print(\"Dimension:\", l1.ndim)"
   ]
  },
  {
   "cell_type": "code",
   "execution_count": 6,
   "metadata": {},
   "outputs": [
    {
     "name": "stdout",
     "output_type": "stream",
     "text": [
      "Type: int32\n"
     ]
    }
   ],
   "source": [
    "#5\n",
    "print(\"Type:\", l1.dtype)"
   ]
  },
  {
   "cell_type": "code",
   "execution_count": 7,
   "metadata": {},
   "outputs": [
    {
     "name": "stdout",
     "output_type": "stream",
     "text": [
      "Size: 1000\n"
     ]
    }
   ],
   "source": [
    "#6\n",
    "print(\"Size:\", l1.size)"
   ]
  },
  {
   "cell_type": "code",
   "execution_count": 8,
   "metadata": {},
   "outputs": [
    {
     "name": "stdout",
     "output_type": "stream",
     "text": [
      "Itemsize: 4\n"
     ]
    }
   ],
   "source": [
    "#7\n",
    "print(\"Itemsize:\", l1.itemsize)"
   ]
  },
  {
   "cell_type": "code",
   "execution_count": 9,
   "metadata": {},
   "outputs": [
    {
     "name": "stdout",
     "output_type": "stream",
     "text": [
      "Shape: (1000,)\n"
     ]
    }
   ],
   "source": [
    "#8\n",
    "print(\"Shape:\", l1.shape)"
   ]
  },
  {
   "cell_type": "code",
   "execution_count": 10,
   "metadata": {},
   "outputs": [
    {
     "name": "stdout",
     "output_type": "stream",
     "text": [
      "[7, 8, 6]\n"
     ]
    }
   ],
   "source": [
    "#9\n",
    "print(l)"
   ]
  },
  {
   "cell_type": "code",
   "execution_count": 16,
   "metadata": {},
   "outputs": [
    {
     "name": "stdout",
     "output_type": "stream",
     "text": [
      "[[ 1  2  3]\n",
      " [ 4  5  6]\n",
      " [ 7  8  9]\n",
      " [10 11 12]]\n"
     ]
    }
   ],
   "source": [
    "#10\n",
    "l1 = np.arange(1,13).reshape((4,3))\n",
    "print(l1)"
   ]
  },
  {
   "cell_type": "code",
   "execution_count": 18,
   "metadata": {},
   "outputs": [
    {
     "name": "stdout",
     "output_type": "stream",
     "text": [
      "[[[ 1  2  3]\n",
      "  [ 4  5  6]\n",
      "  [ 7  8  9]]\n",
      "\n",
      " [[10 11 12]\n",
      "  [13 14 15]\n",
      "  [16 17 18]]\n",
      "\n",
      " [[19 20 21]\n",
      "  [22 23 24]\n",
      "  [25 26 27]]]\n"
     ]
    },
    {
     "data": {
      "text/plain": [
       "17"
      ]
     },
     "execution_count": 18,
     "metadata": {},
     "output_type": "execute_result"
    }
   ],
   "source": [
    "#11\n",
    "\n",
    "l1 = np.arange(1,28).reshape((3,3,3))\n",
    "print(l1)\n",
    "l1[1,2,1]\n"
   ]
  },
  {
   "cell_type": "code",
   "execution_count": 19,
   "metadata": {},
   "outputs": [
    {
     "name": "stdout",
     "output_type": "stream",
     "text": [
      "[[[-0.66868716  0.27867658  0.31579772]\n",
      "  [ 0.76998254  0.10660533 -1.77836757]\n",
      "  [-1.86339715  0.92210264 -0.06802301]]\n",
      "\n",
      " [[-1.09679897 -0.33323126  0.96310615]\n",
      "  [ 0.42191647 -1.28114044  0.04720605]\n",
      "  [ 1.59508754  0.28173137 -1.94984237]]\n",
      "\n",
      " [[ 1.7106248   0.37819837 -1.76033544]\n",
      "  [-2.21959849 -0.44574308  0.85015246]\n",
      "  [-1.06757188 -0.46233773  0.54228051]]]\n"
     ]
    }
   ],
   "source": [
    "#12\n",
    "\n",
    "l1 = np.random.randn(3,3,3)\n",
    "\n",
    "print(l1)"
   ]
  },
  {
   "cell_type": "code",
   "execution_count": 20,
   "metadata": {},
   "outputs": [
    {
     "data": {
      "text/plain": [
       "array([[[ 1.33131284,  2.27867658,  2.31579772],\n",
       "        [ 2.76998254,  2.10660533,  0.22163243],\n",
       "        [ 0.13660285,  2.92210264,  1.93197699]],\n",
       "\n",
       "       [[ 0.90320103,  1.66676874,  2.96310615],\n",
       "        [ 2.42191647,  0.71885956,  2.04720605],\n",
       "        [ 3.59508754,  2.28173137,  0.05015763]],\n",
       "\n",
       "       [[ 3.7106248 ,  2.37819837,  0.23966456],\n",
       "        [-0.21959849,  1.55425692,  2.85015246],\n",
       "        [ 0.93242812,  1.53766227,  2.54228051]]])"
      ]
     },
     "execution_count": 20,
     "metadata": {},
     "output_type": "execute_result"
    }
   ],
   "source": [
    "#13\n",
    "l1 + 2\n"
   ]
  },
  {
   "cell_type": "code",
   "execution_count": 21,
   "metadata": {},
   "outputs": [
    {
     "data": {
      "text/plain": [
       "array([[[-1.33737432,  0.55735316,  0.63159544],\n",
       "        [ 1.53996508,  0.21321065, -3.55673515],\n",
       "        [-3.7267943 ,  1.84420529, -0.13604602]],\n",
       "\n",
       "       [[-2.19359794, -0.66646253,  1.92621229],\n",
       "        [ 0.84383294, -2.56228089,  0.09441211],\n",
       "        [ 3.19017508,  0.56346275, -3.89968474]],\n",
       "\n",
       "       [[ 3.4212496 ,  0.75639675, -3.52067089],\n",
       "        [-4.43919697, -0.89148616,  1.70030492],\n",
       "        [-2.13514376, -0.92467546,  1.08456101]]])"
      ]
     },
     "execution_count": 21,
     "metadata": {},
     "output_type": "execute_result"
    }
   ],
   "source": [
    "#14\n",
    "l1 * 2\n"
   ]
  },
  {
   "cell_type": "code",
   "execution_count": 22,
   "metadata": {},
   "outputs": [
    {
     "data": {
      "text/plain": [
       "array([[[-0.33434358,  0.13933829,  0.15789886],\n",
       "        [ 0.38499127,  0.05330266, -0.88918379],\n",
       "        [-0.93169857,  0.46105132, -0.0340115 ]],\n",
       "\n",
       "       [[-0.54839949, -0.16661563,  0.48155307],\n",
       "        [ 0.21095823, -0.64057022,  0.02360303],\n",
       "        [ 0.79754377,  0.14086569, -0.97492118]],\n",
       "\n",
       "       [[ 0.8553124 ,  0.18909919, -0.88016772],\n",
       "        [-1.10979924, -0.22287154,  0.42507623],\n",
       "        [-0.53378594, -0.23116887,  0.27114025]]])"
      ]
     },
     "execution_count": 22,
     "metadata": {},
     "output_type": "execute_result"
    }
   ],
   "source": [
    "#15\n",
    "l1 / 2\n"
   ]
  },
  {
   "cell_type": "code",
   "execution_count": 23,
   "metadata": {},
   "outputs": [
    {
     "data": {
      "text/plain": [
       "array([[[4.47142519e-01, 7.76606361e-02, 9.97282012e-02],\n",
       "        [5.92873110e-01, 1.13646956e-02, 3.16259123e+00],\n",
       "        [3.47224893e+00, 8.50273284e-01, 4.62712965e-03]],\n",
       "\n",
       "       [[1.20296798e+00, 1.11043075e-01, 9.27573448e-01],\n",
       "        [1.78013506e-01, 1.64132084e+00, 2.22841161e-03],\n",
       "        [2.54430426e+00, 7.93725665e-02, 3.80188526e+00]],\n",
       "\n",
       "       [[2.92623721e+00, 1.43034009e-01, 3.09878087e+00],\n",
       "        [4.92661744e+00, 1.98686894e-01, 7.22759205e-01],\n",
       "        [1.13970972e+00, 2.13756178e-01, 2.94068148e-01]]])"
      ]
     },
     "execution_count": 23,
     "metadata": {},
     "output_type": "execute_result"
    }
   ],
   "source": [
    "#16\n",
    "l1 ** 2\n"
   ]
  },
  {
   "cell_type": "code",
   "execution_count": 24,
   "metadata": {},
   "outputs": [
    {
     "name": "stdout",
     "output_type": "stream",
     "text": [
      "<class 'numpy.ndarray'>\n"
     ]
    }
   ],
   "source": [
    "#17\n",
    "print(type(l1))"
   ]
  },
  {
   "cell_type": "code",
   "execution_count": 25,
   "metadata": {},
   "outputs": [
    {
     "data": {
      "text/plain": [
       "4"
      ]
     },
     "execution_count": 25,
     "metadata": {},
     "output_type": "execute_result"
    }
   ],
   "source": [
    "#18\n",
    "a = np.array([6,8])\n",
    "a.itemsize"
   ]
  },
  {
   "cell_type": "code",
   "execution_count": 28,
   "metadata": {},
   "outputs": [
    {
     "data": {
      "text/plain": [
       "array([[0., 0., 0., 0., 0., 0.],\n",
       "       [0., 0., 0., 0., 0., 0.],\n",
       "       [0., 0., 0., 0., 0., 0.],\n",
       "       [0., 0., 0., 0., 0., 0.],\n",
       "       [0., 0., 0., 0., 0., 0.],\n",
       "       [0., 0., 0., 0., 0., 0.]])"
      ]
     },
     "execution_count": 28,
     "metadata": {},
     "output_type": "execute_result"
    }
   ],
   "source": [
    "#19\n",
    "np.zeros((6,6))"
   ]
  },
  {
   "cell_type": "code",
   "execution_count": 29,
   "metadata": {},
   "outputs": [
    {
     "data": {
      "text/plain": [
       "(2,)"
      ]
     },
     "execution_count": 29,
     "metadata": {},
     "output_type": "execute_result"
    }
   ],
   "source": [
    "#20\n",
    "a.shape"
   ]
  },
  {
   "cell_type": "code",
   "execution_count": 30,
   "metadata": {},
   "outputs": [
    {
     "data": {
      "text/plain": [
       "array([0., 0.])"
      ]
     },
     "execution_count": 30,
     "metadata": {},
     "output_type": "execute_result"
    }
   ],
   "source": [
    "#21\n",
    "\n",
    "np.zeros((a.shape))"
   ]
  },
  {
   "cell_type": "code",
   "execution_count": 31,
   "metadata": {},
   "outputs": [
    {
     "data": {
      "text/plain": [
       "array([0, 0])"
      ]
     },
     "execution_count": 31,
     "metadata": {},
     "output_type": "execute_result"
    }
   ],
   "source": [
    "#22\n",
    "np.zeros_like(a)\n"
   ]
  },
  {
   "cell_type": "code",
   "execution_count": 32,
   "metadata": {},
   "outputs": [
    {
     "data": {
      "text/plain": [
       "array([[1., 1., 1.],\n",
       "       [1., 1., 1.],\n",
       "       [1., 1., 1.],\n",
       "       [1., 1., 1.],\n",
       "       [1., 1., 1.],\n",
       "       [1., 1., 1.]])"
      ]
     },
     "execution_count": 32,
     "metadata": {},
     "output_type": "execute_result"
    }
   ],
   "source": [
    "#23\n",
    "b = np.ones((6,3))\n",
    "b\n"
   ]
  },
  {
   "cell_type": "code",
   "execution_count": 33,
   "metadata": {},
   "outputs": [
    {
     "data": {
      "text/plain": [
       "array([1, 1])"
      ]
     },
     "execution_count": 33,
     "metadata": {},
     "output_type": "execute_result"
    }
   ],
   "source": [
    "#24\n",
    "b = np.ones_like(a)\n",
    "b"
   ]
  },
  {
   "cell_type": "code",
   "execution_count": 34,
   "metadata": {},
   "outputs": [
    {
     "data": {
      "text/plain": [
       "array([12, 12])"
      ]
     },
     "execution_count": 34,
     "metadata": {},
     "output_type": "execute_result"
    }
   ],
   "source": [
    "#25\n",
    "b = np.ones_like(a) * 12 \n",
    "b"
   ]
  },
  {
   "cell_type": "code",
   "execution_count": 36,
   "metadata": {},
   "outputs": [
    {
     "data": {
      "text/plain": [
       "array([[10, 10, 10, 10, 10, 10],\n",
       "       [10, 10, 10, 10, 10, 10],\n",
       "       [10, 10, 10, 10, 10, 10],\n",
       "       [10, 10, 10, 10, 10, 10],\n",
       "       [10, 10, 10, 10, 10, 10],\n",
       "       [10, 10, 10, 10, 10, 10]])"
      ]
     },
     "execution_count": 36,
     "metadata": {},
     "output_type": "execute_result"
    }
   ],
   "source": [
    "#26\n",
    "b = np.full((6,6), 10)\n",
    "b"
   ]
  },
  {
   "cell_type": "code",
   "execution_count": 37,
   "metadata": {},
   "outputs": [
    {
     "data": {
      "text/plain": [
       "array([4, 4])"
      ]
     },
     "execution_count": 37,
     "metadata": {},
     "output_type": "execute_result"
    }
   ],
   "source": [
    "#27\n",
    "b = np.full_like(a, 4)\n",
    "b"
   ]
  },
  {
   "cell_type": "code",
   "execution_count": 38,
   "metadata": {},
   "outputs": [
    {
     "data": {
      "text/plain": [
       "array([[4.47142519e-01, 7.76606361e-02, 9.97282012e-02, 5.92873110e-01,\n",
       "        1.13646956e-02, 3.16259123e+00, 3.47224893e+00, 8.50273284e-01,\n",
       "        4.62712965e-03],\n",
       "       [1.20296798e+00, 1.11043075e-01, 9.27573448e-01, 1.78013506e-01,\n",
       "        1.64132084e+00, 2.22841161e-03, 2.54430426e+00, 7.93725665e-02,\n",
       "        3.80188526e+00],\n",
       "       [2.92623721e+00, 1.43034009e-01, 3.09878087e+00, 4.92661744e+00,\n",
       "        1.98686894e-01, 7.22759205e-01, 1.13970972e+00, 2.13756178e-01,\n",
       "        2.94068148e-01]])"
      ]
     },
     "execution_count": 38,
     "metadata": {},
     "output_type": "execute_result"
    }
   ],
   "source": [
    "#28\n",
    "np.empty((3,9))"
   ]
  },
  {
   "cell_type": "code",
   "execution_count": 39,
   "metadata": {},
   "outputs": [
    {
     "data": {
      "text/plain": [
       "array([ 891455647, 1070780931])"
      ]
     },
     "execution_count": 39,
     "metadata": {},
     "output_type": "execute_result"
    }
   ],
   "source": [
    "#29\n",
    "np.empty_like(a)"
   ]
  },
  {
   "cell_type": "code",
   "execution_count": 40,
   "metadata": {},
   "outputs": [
    {
     "data": {
      "text/plain": [
       "array([nan, nan])"
      ]
     },
     "execution_count": 40,
     "metadata": {},
     "output_type": "execute_result"
    }
   ],
   "source": [
    "#30\n",
    "np.full_like(a, 2) * np.nan"
   ]
  },
  {
   "cell_type": "code",
   "execution_count": 41,
   "metadata": {},
   "outputs": [
    {
     "data": {
      "text/plain": [
       "array([nan, nan])"
      ]
     },
     "execution_count": 41,
     "metadata": {},
     "output_type": "execute_result"
    }
   ],
   "source": [
    "#31\n",
    "\n",
    "np.full(a.shape, np.nan)"
   ]
  },
  {
   "cell_type": "code",
   "execution_count": 42,
   "metadata": {},
   "outputs": [
    {
     "data": {
      "text/plain": [
       "array([[1., 0., 0., 0., 0.],\n",
       "       [0., 1., 0., 0., 0.],\n",
       "       [0., 0., 1., 0., 0.],\n",
       "       [0., 0., 0., 1., 0.],\n",
       "       [0., 0., 0., 0., 1.]])"
      ]
     },
     "execution_count": 42,
     "metadata": {},
     "output_type": "execute_result"
    }
   ],
   "source": [
    "#32\n",
    "np.eye(5)"
   ]
  },
  {
   "cell_type": "code",
   "execution_count": 43,
   "metadata": {},
   "outputs": [
    {
     "data": {
      "text/plain": [
       "array([[1., 0., 0., 0., 0., 0., 0., 0., 0., 0.],\n",
       "       [0., 1., 0., 0., 0., 0., 0., 0., 0., 0.],\n",
       "       [0., 0., 1., 0., 0., 0., 0., 0., 0., 0.],\n",
       "       [0., 0., 0., 1., 0., 0., 0., 0., 0., 0.],\n",
       "       [0., 0., 0., 0., 1., 0., 0., 0., 0., 0.],\n",
       "       [0., 0., 0., 0., 0., 1., 0., 0., 0., 0.],\n",
       "       [0., 0., 0., 0., 0., 0., 1., 0., 0., 0.],\n",
       "       [0., 0., 0., 0., 0., 0., 0., 1., 0., 0.],\n",
       "       [0., 0., 0., 0., 0., 0., 0., 0., 1., 0.],\n",
       "       [0., 0., 0., 0., 0., 0., 0., 0., 0., 1.]])"
      ]
     },
     "execution_count": 43,
     "metadata": {},
     "output_type": "execute_result"
    }
   ],
   "source": [
    "#33\n",
    "np.identity(10)"
   ]
  },
  {
   "cell_type": "code",
   "execution_count": 45,
   "metadata": {},
   "outputs": [
    {
     "data": {
      "text/plain": [
       "dtype('int32')"
      ]
     },
     "execution_count": 45,
     "metadata": {},
     "output_type": "execute_result"
    }
   ],
   "source": [
    "#34\n",
    "\n",
    "a = np.array([1,3,4], dtype=int)\n",
    "\n",
    "a.dtype\n"
   ]
  },
  {
   "cell_type": "code",
   "execution_count": 46,
   "metadata": {},
   "outputs": [
    {
     "data": {
      "text/plain": [
       "dtype('int32')"
      ]
     },
     "execution_count": 46,
     "metadata": {},
     "output_type": "execute_result"
    }
   ],
   "source": [
    "#35\n",
    "b = np.array([3,8,9], dtype=a.dtype)\n",
    "b.dtype"
   ]
  },
  {
   "cell_type": "code",
   "execution_count": 47,
   "metadata": {},
   "outputs": [
    {
     "data": {
      "text/plain": [
       "array([[[ 1,  2,  3],\n",
       "        [ 4,  5,  6],\n",
       "        [ 7,  8,  9]],\n",
       "\n",
       "       [[10, 11, 12],\n",
       "        [13, 14, 15],\n",
       "        [16, 17, 18]],\n",
       "\n",
       "       [[19, 20, 21],\n",
       "        [22, 23, 24],\n",
       "        [25, 26, 27]]])"
      ]
     },
     "execution_count": 47,
     "metadata": {},
     "output_type": "execute_result"
    }
   ],
   "source": [
    "#36\n",
    "\n",
    "a = np.arange(1,28).reshape((3,3,3))\n",
    "a"
   ]
  },
  {
   "cell_type": "code",
   "execution_count": 48,
   "metadata": {},
   "outputs": [
    {
     "data": {
      "text/plain": [
       "array([[[False, False, False],\n",
       "        [False, False,  True],\n",
       "        [False, False, False]],\n",
       "\n",
       "       [[False, False,  True],\n",
       "        [False, False, False],\n",
       "        [False, False,  True]],\n",
       "\n",
       "       [[False, False, False],\n",
       "        [False, False,  True],\n",
       "        [False, False, False]]])"
      ]
     },
     "execution_count": 48,
     "metadata": {},
     "output_type": "execute_result"
    }
   ],
   "source": [
    "#37\n",
    "a % 6 == 0"
   ]
  },
  {
   "cell_type": "code",
   "execution_count": 49,
   "metadata": {},
   "outputs": [
    {
     "name": "stdout",
     "output_type": "stream",
     "text": [
      "[[[ 1  2  3]\n",
      "  [ 4  5  6]\n",
      "  [ 7  8  9]]\n",
      "\n",
      " [[10 11 12]\n",
      "  [13 14 15]\n",
      "  [16 17 18]]\n",
      "\n",
      " [[19 20 21]\n",
      "  [22 23 24]\n",
      "  [25 26 27]]]\n"
     ]
    },
    {
     "data": {
      "text/plain": [
       "array([14])"
      ]
     },
     "execution_count": 49,
     "metadata": {},
     "output_type": "execute_result"
    }
   ],
   "source": [
    "#38\n",
    "print(a)\n",
    "a[(a%2==0) & (a%7==0)]"
   ]
  },
  {
   "cell_type": "code",
   "execution_count": 50,
   "metadata": {},
   "outputs": [
    {
     "data": {
      "text/plain": [
       "array([[[ 1, 10, 19],\n",
       "        [ 4, 13, 22],\n",
       "        [ 7, 16, 25]],\n",
       "\n",
       "       [[ 2, 11, 20],\n",
       "        [ 5, 14, 23],\n",
       "        [ 8, 17, 26]],\n",
       "\n",
       "       [[ 3, 12, 21],\n",
       "        [ 6, 15, 24],\n",
       "        [ 9, 18, 27]]])"
      ]
     },
     "execution_count": 50,
     "metadata": {},
     "output_type": "execute_result"
    }
   ],
   "source": [
    "#39\n",
    "a.T"
   ]
  },
  {
   "cell_type": "code",
   "execution_count": 51,
   "metadata": {},
   "outputs": [
    {
     "data": {
      "text/plain": [
       "array([[[ 1,  2,  3],\n",
       "        [ 4,  5,  6],\n",
       "        [ 7,  8,  9]],\n",
       "\n",
       "       [[10, 11, 12],\n",
       "        [13, 14, 15],\n",
       "        [16, 17, 18]],\n",
       "\n",
       "       [[19, 20, 21],\n",
       "        [22, 23, 24],\n",
       "        [25, 26, 27]]])"
      ]
     },
     "execution_count": 51,
     "metadata": {},
     "output_type": "execute_result"
    }
   ],
   "source": [
    "#40\n",
    "a.T.T.T.T"
   ]
  },
  {
   "cell_type": "code",
   "execution_count": 52,
   "metadata": {},
   "outputs": [
    {
     "data": {
      "text/plain": [
       "array([[[ 1, 10, 19],\n",
       "        [ 4, 13, 22],\n",
       "        [ 7, 16, 25]],\n",
       "\n",
       "       [[ 2, 11, 20],\n",
       "        [ 5, 14, 23],\n",
       "        [ 8, 17, 26]],\n",
       "\n",
       "       [[ 3, 12, 21],\n",
       "        [ 6, 15, 24],\n",
       "        [ 9, 18, 27]]])"
      ]
     },
     "execution_count": 52,
     "metadata": {},
     "output_type": "execute_result"
    }
   ],
   "source": [
    "#41\n",
    "a.transpose()"
   ]
  },
  {
   "cell_type": "code",
   "execution_count": 53,
   "metadata": {},
   "outputs": [
    {
     "data": {
      "text/plain": [
       "array([[ 46, 106, 166],\n",
       "       [226, 286, 346],\n",
       "       [406, 466, 526]])"
      ]
     },
     "execution_count": 53,
     "metadata": {},
     "output_type": "execute_result"
    }
   ],
   "source": [
    "#42\n",
    "a.dot(b)"
   ]
  },
  {
   "cell_type": "code",
   "execution_count": 54,
   "metadata": {},
   "outputs": [
    {
     "data": {
      "text/plain": [
       "array([[[[  30,   84,  138],\n",
       "         [  36,   90,  144],\n",
       "         [  42,   96,  150]],\n",
       "\n",
       "        [[  66,  201,  336],\n",
       "         [  81,  216,  351],\n",
       "         [  96,  231,  366]],\n",
       "\n",
       "        [[ 102,  318,  534],\n",
       "         [ 126,  342,  558],\n",
       "         [ 150,  366,  582]]],\n",
       "\n",
       "\n",
       "       [[[ 138,  435,  732],\n",
       "         [ 171,  468,  765],\n",
       "         [ 204,  501,  798]],\n",
       "\n",
       "        [[ 174,  552,  930],\n",
       "         [ 216,  594,  972],\n",
       "         [ 258,  636, 1014]],\n",
       "\n",
       "        [[ 210,  669, 1128],\n",
       "         [ 261,  720, 1179],\n",
       "         [ 312,  771, 1230]]],\n",
       "\n",
       "\n",
       "       [[[ 246,  786, 1326],\n",
       "         [ 306,  846, 1386],\n",
       "         [ 366,  906, 1446]],\n",
       "\n",
       "        [[ 282,  903, 1524],\n",
       "         [ 351,  972, 1593],\n",
       "         [ 420, 1041, 1662]],\n",
       "\n",
       "        [[ 318, 1020, 1722],\n",
       "         [ 396, 1098, 1800],\n",
       "         [ 474, 1176, 1878]]]])"
      ]
     },
     "execution_count": 54,
     "metadata": {},
     "output_type": "execute_result"
    }
   ],
   "source": [
    "#43\n",
    "a.dot(a.T)"
   ]
  },
  {
   "cell_type": "code",
   "execution_count": 55,
   "metadata": {},
   "outputs": [
    {
     "data": {
      "text/plain": [
       "array([ 5, 18, 10,  2, 34, 20])"
      ]
     },
     "execution_count": 55,
     "metadata": {},
     "output_type": "execute_result"
    }
   ],
   "source": [
    "#44\n",
    "a = np.array([-5,18,10,-2,-34,20])\n",
    "np.abs(a)"
   ]
  },
  {
   "cell_type": "code",
   "execution_count": 56,
   "metadata": {},
   "outputs": [
    {
     "data": {
      "text/plain": [
       "array([ 5., 18., 10.,  2., 34., 20.])"
      ]
     },
     "execution_count": 56,
     "metadata": {},
     "output_type": "execute_result"
    }
   ],
   "source": [
    "#45\n",
    "a = np.array([-5,18,10,-2,-34,20])\n",
    "np.fabs(a)"
   ]
  },
  {
   "cell_type": "code",
   "execution_count": 57,
   "metadata": {},
   "outputs": [
    {
     "data": {
      "text/plain": [
       "array([  25,  324,  100,    4, 1156,  400], dtype=int32)"
      ]
     },
     "execution_count": 57,
     "metadata": {},
     "output_type": "execute_result"
    }
   ],
   "source": [
    "#46\n",
    "a = np.array([-5,18,10,-2,-34,20])\n",
    "np.square(a)"
   ]
  },
  {
   "cell_type": "code",
   "execution_count": 58,
   "metadata": {},
   "outputs": [
    {
     "data": {
      "text/plain": [
       "array([6.73794700e-03, 6.56599691e+07, 2.20264658e+04, 1.35335283e-01,\n",
       "       1.71390843e-15, 4.85165195e+08])"
      ]
     },
     "execution_count": 58,
     "metadata": {},
     "output_type": "execute_result"
    }
   ],
   "source": [
    "#47\n",
    "a = np.array([-5,18,10,-2,-34,20])\n",
    "np.exp(a)"
   ]
  },
  {
   "cell_type": "code",
   "execution_count": 59,
   "metadata": {},
   "outputs": [
    {
     "data": {
      "text/plain": [
       "array([ -5.,  18.,  10.,  -2., -34.,  20.])"
      ]
     },
     "execution_count": 59,
     "metadata": {},
     "output_type": "execute_result"
    }
   ],
   "source": [
    "#48\n",
    "a = np.array([-5,18,10,-2,-34,20])\n",
    "np.ceil(a)"
   ]
  },
  {
   "cell_type": "code",
   "execution_count": 60,
   "metadata": {},
   "outputs": [
    {
     "data": {
      "text/plain": [
       "array([ -5.,  18.,  10.,  -2., -34.,  20.])"
      ]
     },
     "execution_count": 60,
     "metadata": {},
     "output_type": "execute_result"
    }
   ],
   "source": [
    "#49\n",
    "a = np.array([-5,18,10,-2,-34,20])\n",
    "np.floor(a)"
   ]
  },
  {
   "cell_type": "code",
   "execution_count": 61,
   "metadata": {},
   "outputs": [
    {
     "data": {
      "text/plain": [
       "array([ -5,  18,  10,  -2, -34,  20])"
      ]
     },
     "execution_count": 61,
     "metadata": {},
     "output_type": "execute_result"
    }
   ],
   "source": [
    "#50\n",
    "a = np.array([-5,18,10,-2,-34,20])\n",
    "np.round(a)"
   ]
  },
  {
   "cell_type": "code",
   "execution_count": null,
   "metadata": {},
   "outputs": [],
   "source": []
  }
 ],
 "metadata": {
  "kernelspec": {
   "display_name": "Python 3",
   "language": "python",
   "name": "python3"
  },
  "language_info": {
   "codemirror_mode": {
    "name": "ipython",
    "version": 3
   },
   "file_extension": ".py",
   "mimetype": "text/x-python",
   "name": "python",
   "nbconvert_exporter": "python",
   "pygments_lexer": "ipython3",
   "version": "3.7.6"
  }
 },
 "nbformat": 4,
 "nbformat_minor": 4
}
